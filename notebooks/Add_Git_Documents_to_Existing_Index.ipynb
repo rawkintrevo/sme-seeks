{
  "nbformat": 4,
  "nbformat_minor": 0,
  "metadata": {
    "colab": {
      "provenance": [],
      "authorship_tag": "ABX9TyPcs+EeLnM8iZqRLf0FPvvo",
      "include_colab_link": true
    },
    "kernelspec": {
      "name": "python3",
      "display_name": "Python 3"
    },
    "language_info": {
      "name": "python"
    },
    "widgets": {
      "application/vnd.jupyter.widget-state+json": {
        "5610521db8a743c8840551c298d8a831": {
          "model_module": "@jupyter-widgets/controls",
          "model_name": "HBoxModel",
          "model_module_version": "1.5.0",
          "state": {
            "_dom_classes": [],
            "_model_module": "@jupyter-widgets/controls",
            "_model_module_version": "1.5.0",
            "_model_name": "HBoxModel",
            "_view_count": null,
            "_view_module": "@jupyter-widgets/controls",
            "_view_module_version": "1.5.0",
            "_view_name": "HBoxView",
            "box_style": "",
            "children": [
              "IPY_MODEL_f4f4ae57a6c745098a84a8fed0b023c2",
              "IPY_MODEL_1db902095f614dfaa0ef25aa09185ad4",
              "IPY_MODEL_e01c2d842efd4254ab918bc9eef46933"
            ],
            "layout": "IPY_MODEL_061f08490e3c4d3cbe79d95afb03ad69"
          }
        },
        "f4f4ae57a6c745098a84a8fed0b023c2": {
          "model_module": "@jupyter-widgets/controls",
          "model_name": "HTMLModel",
          "model_module_version": "1.5.0",
          "state": {
            "_dom_classes": [],
            "_model_module": "@jupyter-widgets/controls",
            "_model_module_version": "1.5.0",
            "_model_name": "HTMLModel",
            "_view_count": null,
            "_view_module": "@jupyter-widgets/controls",
            "_view_module_version": "1.5.0",
            "_view_name": "HTMLView",
            "description": "",
            "description_tooltip": null,
            "layout": "IPY_MODEL_a6cbbba7affd4d2d8a70c41b47a2543b",
            "placeholder": "​",
            "style": "IPY_MODEL_c9d6e829b5ed4187817a912ba8199ccc",
            "value": "Upserted vectors: 100%"
          }
        },
        "1db902095f614dfaa0ef25aa09185ad4": {
          "model_module": "@jupyter-widgets/controls",
          "model_name": "FloatProgressModel",
          "model_module_version": "1.5.0",
          "state": {
            "_dom_classes": [],
            "_model_module": "@jupyter-widgets/controls",
            "_model_module_version": "1.5.0",
            "_model_name": "FloatProgressModel",
            "_view_count": null,
            "_view_module": "@jupyter-widgets/controls",
            "_view_module_version": "1.5.0",
            "_view_name": "ProgressView",
            "bar_style": "",
            "description": "",
            "description_tooltip": null,
            "layout": "IPY_MODEL_5f0a53836b16453194e3a80a3a2600b6",
            "max": 990,
            "min": 0,
            "orientation": "horizontal",
            "style": "IPY_MODEL_63d760d6a5bf47bb9ef847b1ff48f3f9",
            "value": 990
          }
        },
        "e01c2d842efd4254ab918bc9eef46933": {
          "model_module": "@jupyter-widgets/controls",
          "model_name": "HTMLModel",
          "model_module_version": "1.5.0",
          "state": {
            "_dom_classes": [],
            "_model_module": "@jupyter-widgets/controls",
            "_model_module_version": "1.5.0",
            "_model_name": "HTMLModel",
            "_view_count": null,
            "_view_module": "@jupyter-widgets/controls",
            "_view_module_version": "1.5.0",
            "_view_name": "HTMLView",
            "description": "",
            "description_tooltip": null,
            "layout": "IPY_MODEL_0e3f10c2882e442e971b96002fdebc37",
            "placeholder": "​",
            "style": "IPY_MODEL_f26cec0170514815abc9fb04775e9767",
            "value": " 990/990 [00:33&lt;00:00, 65.47it/s]"
          }
        },
        "061f08490e3c4d3cbe79d95afb03ad69": {
          "model_module": "@jupyter-widgets/base",
          "model_name": "LayoutModel",
          "model_module_version": "1.2.0",
          "state": {
            "_model_module": "@jupyter-widgets/base",
            "_model_module_version": "1.2.0",
            "_model_name": "LayoutModel",
            "_view_count": null,
            "_view_module": "@jupyter-widgets/base",
            "_view_module_version": "1.2.0",
            "_view_name": "LayoutView",
            "align_content": null,
            "align_items": null,
            "align_self": null,
            "border": null,
            "bottom": null,
            "display": null,
            "flex": null,
            "flex_flow": null,
            "grid_area": null,
            "grid_auto_columns": null,
            "grid_auto_flow": null,
            "grid_auto_rows": null,
            "grid_column": null,
            "grid_gap": null,
            "grid_row": null,
            "grid_template_areas": null,
            "grid_template_columns": null,
            "grid_template_rows": null,
            "height": null,
            "justify_content": null,
            "justify_items": null,
            "left": null,
            "margin": null,
            "max_height": null,
            "max_width": null,
            "min_height": null,
            "min_width": null,
            "object_fit": null,
            "object_position": null,
            "order": null,
            "overflow": null,
            "overflow_x": null,
            "overflow_y": null,
            "padding": null,
            "right": null,
            "top": null,
            "visibility": null,
            "width": null
          }
        },
        "a6cbbba7affd4d2d8a70c41b47a2543b": {
          "model_module": "@jupyter-widgets/base",
          "model_name": "LayoutModel",
          "model_module_version": "1.2.0",
          "state": {
            "_model_module": "@jupyter-widgets/base",
            "_model_module_version": "1.2.0",
            "_model_name": "LayoutModel",
            "_view_count": null,
            "_view_module": "@jupyter-widgets/base",
            "_view_module_version": "1.2.0",
            "_view_name": "LayoutView",
            "align_content": null,
            "align_items": null,
            "align_self": null,
            "border": null,
            "bottom": null,
            "display": null,
            "flex": null,
            "flex_flow": null,
            "grid_area": null,
            "grid_auto_columns": null,
            "grid_auto_flow": null,
            "grid_auto_rows": null,
            "grid_column": null,
            "grid_gap": null,
            "grid_row": null,
            "grid_template_areas": null,
            "grid_template_columns": null,
            "grid_template_rows": null,
            "height": null,
            "justify_content": null,
            "justify_items": null,
            "left": null,
            "margin": null,
            "max_height": null,
            "max_width": null,
            "min_height": null,
            "min_width": null,
            "object_fit": null,
            "object_position": null,
            "order": null,
            "overflow": null,
            "overflow_x": null,
            "overflow_y": null,
            "padding": null,
            "right": null,
            "top": null,
            "visibility": null,
            "width": null
          }
        },
        "c9d6e829b5ed4187817a912ba8199ccc": {
          "model_module": "@jupyter-widgets/controls",
          "model_name": "DescriptionStyleModel",
          "model_module_version": "1.5.0",
          "state": {
            "_model_module": "@jupyter-widgets/controls",
            "_model_module_version": "1.5.0",
            "_model_name": "DescriptionStyleModel",
            "_view_count": null,
            "_view_module": "@jupyter-widgets/base",
            "_view_module_version": "1.2.0",
            "_view_name": "StyleView",
            "description_width": ""
          }
        },
        "5f0a53836b16453194e3a80a3a2600b6": {
          "model_module": "@jupyter-widgets/base",
          "model_name": "LayoutModel",
          "model_module_version": "1.2.0",
          "state": {
            "_model_module": "@jupyter-widgets/base",
            "_model_module_version": "1.2.0",
            "_model_name": "LayoutModel",
            "_view_count": null,
            "_view_module": "@jupyter-widgets/base",
            "_view_module_version": "1.2.0",
            "_view_name": "LayoutView",
            "align_content": null,
            "align_items": null,
            "align_self": null,
            "border": null,
            "bottom": null,
            "display": null,
            "flex": null,
            "flex_flow": null,
            "grid_area": null,
            "grid_auto_columns": null,
            "grid_auto_flow": null,
            "grid_auto_rows": null,
            "grid_column": null,
            "grid_gap": null,
            "grid_row": null,
            "grid_template_areas": null,
            "grid_template_columns": null,
            "grid_template_rows": null,
            "height": null,
            "justify_content": null,
            "justify_items": null,
            "left": null,
            "margin": null,
            "max_height": null,
            "max_width": null,
            "min_height": null,
            "min_width": null,
            "object_fit": null,
            "object_position": null,
            "order": null,
            "overflow": null,
            "overflow_x": null,
            "overflow_y": null,
            "padding": null,
            "right": null,
            "top": null,
            "visibility": null,
            "width": null
          }
        },
        "63d760d6a5bf47bb9ef847b1ff48f3f9": {
          "model_module": "@jupyter-widgets/controls",
          "model_name": "ProgressStyleModel",
          "model_module_version": "1.5.0",
          "state": {
            "_model_module": "@jupyter-widgets/controls",
            "_model_module_version": "1.5.0",
            "_model_name": "ProgressStyleModel",
            "_view_count": null,
            "_view_module": "@jupyter-widgets/base",
            "_view_module_version": "1.2.0",
            "_view_name": "StyleView",
            "bar_color": null,
            "description_width": ""
          }
        },
        "0e3f10c2882e442e971b96002fdebc37": {
          "model_module": "@jupyter-widgets/base",
          "model_name": "LayoutModel",
          "model_module_version": "1.2.0",
          "state": {
            "_model_module": "@jupyter-widgets/base",
            "_model_module_version": "1.2.0",
            "_model_name": "LayoutModel",
            "_view_count": null,
            "_view_module": "@jupyter-widgets/base",
            "_view_module_version": "1.2.0",
            "_view_name": "LayoutView",
            "align_content": null,
            "align_items": null,
            "align_self": null,
            "border": null,
            "bottom": null,
            "display": null,
            "flex": null,
            "flex_flow": null,
            "grid_area": null,
            "grid_auto_columns": null,
            "grid_auto_flow": null,
            "grid_auto_rows": null,
            "grid_column": null,
            "grid_gap": null,
            "grid_row": null,
            "grid_template_areas": null,
            "grid_template_columns": null,
            "grid_template_rows": null,
            "height": null,
            "justify_content": null,
            "justify_items": null,
            "left": null,
            "margin": null,
            "max_height": null,
            "max_width": null,
            "min_height": null,
            "min_width": null,
            "object_fit": null,
            "object_position": null,
            "order": null,
            "overflow": null,
            "overflow_x": null,
            "overflow_y": null,
            "padding": null,
            "right": null,
            "top": null,
            "visibility": null,
            "width": null
          }
        },
        "f26cec0170514815abc9fb04775e9767": {
          "model_module": "@jupyter-widgets/controls",
          "model_name": "DescriptionStyleModel",
          "model_module_version": "1.5.0",
          "state": {
            "_model_module": "@jupyter-widgets/controls",
            "_model_module_version": "1.5.0",
            "_model_name": "DescriptionStyleModel",
            "_view_count": null,
            "_view_module": "@jupyter-widgets/base",
            "_view_module_version": "1.2.0",
            "_view_name": "StyleView",
            "description_width": ""
          }
        }
      }
    }
  },
  "cells": [
    {
      "cell_type": "markdown",
      "metadata": {
        "id": "view-in-github",
        "colab_type": "text"
      },
      "source": [
        "<a href=\"https://colab.research.google.com/github/rawkintrevo/sme-seeks/blob/main/notebooks/Add_Git_Documents_to_Existing_Index.ipynb\" target=\"_parent\"><img src=\"https://colab.research.google.com/assets/colab-badge.svg\" alt=\"Open In Colab\"/></a>"
      ]
    },
    {
      "cell_type": "markdown",
      "source": [
        "## Step 1: Install Dependencies"
      ],
      "metadata": {
        "id": "Wofc6myZUENA"
      }
    },
    {
      "cell_type": "code",
      "execution_count": 1,
      "metadata": {
        "colab": {
          "base_uri": "https://localhost:8080/"
        },
        "id": "ytegsEZfT7gl",
        "outputId": "0991732c-b65f-4f16-a43b-a5380b6c102b"
      },
      "outputs": [
        {
          "output_type": "stream",
          "name": "stdout",
          "text": [
            "\u001b[2K     \u001b[90m━━━━━━━━━━━━━━━━━━━━━━━━━━━━━━━━━━━━━━━━\u001b[0m \u001b[32m15.8/15.8 MB\u001b[0m \u001b[31m25.5 MB/s\u001b[0m eta \u001b[36m0:00:00\u001b[0m\n",
            "\u001b[2K     \u001b[90m━━━━━━━━━━━━━━━━━━━━━━━━━━━━━━━━━━━━━━━━\u001b[0m \u001b[32m190.6/190.6 kB\u001b[0m \u001b[31m6.6 MB/s\u001b[0m eta \u001b[36m0:00:00\u001b[0m\n",
            "\u001b[2K     \u001b[90m━━━━━━━━━━━━━━━━━━━━━━━━━━━━━━━━━━━━━━━━\u001b[0m \u001b[32m179.4/179.4 kB\u001b[0m \u001b[31m10.0 MB/s\u001b[0m eta \u001b[36m0:00:00\u001b[0m\n",
            "\u001b[2K     \u001b[90m━━━━━━━━━━━━━━━━━━━━━━━━━━━━━━━━━━━━━━━━\u001b[0m \u001b[32m143.0/143.0 kB\u001b[0m \u001b[31m7.4 MB/s\u001b[0m eta \u001b[36m0:00:00\u001b[0m\n",
            "\u001b[2K     \u001b[90m━━━━━━━━━━━━━━━━━━━━━━━━━━━━━━━━━━━━━━━━\u001b[0m \u001b[32m75.9/75.9 kB\u001b[0m \u001b[31m3.2 MB/s\u001b[0m eta \u001b[36m0:00:00\u001b[0m\n",
            "\u001b[2K     \u001b[90m━━━━━━━━━━━━━━━━━━━━━━━━━━━━━━━━━━━━━━━━\u001b[0m \u001b[32m225.4/225.4 kB\u001b[0m \u001b[31m8.4 MB/s\u001b[0m eta \u001b[36m0:00:00\u001b[0m\n",
            "\u001b[2K     \u001b[90m━━━━━━━━━━━━━━━━━━━━━━━━━━━━━━━━━━━━━━━━\u001b[0m \u001b[32m2.0/2.0 MB\u001b[0m \u001b[31m31.6 MB/s\u001b[0m eta \u001b[36m0:00:00\u001b[0m\n",
            "\u001b[2K     \u001b[90m━━━━━━━━━━━━━━━━━━━━━━━━━━━━━━━━━━━━━━━━\u001b[0m \u001b[32m62.7/62.7 kB\u001b[0m \u001b[31m3.4 MB/s\u001b[0m eta \u001b[36m0:00:00\u001b[0m\n",
            "\u001b[2K     \u001b[90m━━━━━━━━━━━━━━━━━━━━━━━━━━━━━━━━━━━━━━━━\u001b[0m \u001b[32m62.5/62.5 kB\u001b[0m \u001b[31m3.2 MB/s\u001b[0m eta \u001b[36m0:00:00\u001b[0m\n",
            "\u001b[2K     \u001b[90m━━━━━━━━━━━━━━━━━━━━━━━━━━━━━━━━━━━━━━━━\u001b[0m \u001b[32m300.4/300.4 kB\u001b[0m \u001b[31m17.4 MB/s\u001b[0m eta \u001b[36m0:00:00\u001b[0m\n",
            "\u001b[2K     \u001b[90m━━━━━━━━━━━━━━━━━━━━━━━━━━━━━━━━━━━━━━━━\u001b[0m \u001b[32m1.3/1.3 MB\u001b[0m \u001b[31m21.0 MB/s\u001b[0m eta \u001b[36m0:00:00\u001b[0m\n",
            "\u001b[2K     \u001b[90m━━━━━━━━━━━━━━━━━━━━━━━━━━━━━━━━━━━━━━━━\u001b[0m \u001b[32m76.9/76.9 kB\u001b[0m \u001b[31m7.0 MB/s\u001b[0m eta \u001b[36m0:00:00\u001b[0m\n",
            "\u001b[2K     \u001b[90m━━━━━━━━━━━━━━━━━━━━━━━━━━━━━━━━━━━━━━━━\u001b[0m \u001b[32m58.3/58.3 kB\u001b[0m \u001b[31m4.1 MB/s\u001b[0m eta \u001b[36m0:00:00\u001b[0m\n",
            "\u001b[2K     \u001b[90m━━━━━━━━━━━━━━━━━━━━━━━━━━━━━━━━━━━━━━━━\u001b[0m \u001b[32m49.4/49.4 kB\u001b[0m \u001b[31m3.6 MB/s\u001b[0m eta \u001b[36m0:00:00\u001b[0m\n",
            "\u001b[?25h\u001b[31mERROR: pip's dependency resolver does not currently take into account all the packages that are installed. This behaviour is the source of the following dependency conflicts.\n",
            "llmx 0.0.15a0 requires cohere, which is not installed.\n",
            "tensorflow-probability 0.22.0 requires typing-extensions<4.6.0, but you have typing-extensions 4.9.0 which is incompatible.\u001b[0m\u001b[31m\n",
            "\u001b[0m"
          ]
        }
      ],
      "source": [
        "!pip install -q llama-index GitPython \"pinecone-client[grpc]\""
      ]
    },
    {
      "cell_type": "markdown",
      "source": [
        "## Config\n",
        "\n",
        "You have two configs at the moment:\n",
        "\n",
        "`git_targets` - a list of tuples where it is the (git_url, friendly name, and path to docs)\n",
        "\n",
        "and\n",
        "\n",
        "`INDEX_NAME` - which is the index cooresponding to your API key, which is stored as a secret in `pinecone_api_key_js` (for explanation on 'why _js?' see future text block).\n"
      ],
      "metadata": {
        "id": "4m_1oxCca8Xj"
      }
    },
    {
      "cell_type": "code",
      "source": [
        "git_targets = [\n",
        "    # (\"https://github.com/<org>/<repo>.git\", \"Title\", \"path/to/docs\")\n",
        "    (\"https://github.com/reactjs/react.dev.git\", \"React Developer Documentation\", \"src/content\"),\n",
        "    (\"https://github.com/react-bootstrap/react-bootstrap.git\", \"React Bootstrap Documentation\", \"www/docs\"),\n",
        "\n",
        "]\n",
        "\n",
        "INDEX_NAME = \"firebase-react-helper\""
      ],
      "metadata": {
        "id": "Uhin9Toya-zo"
      },
      "execution_count": 2,
      "outputs": []
    },
    {
      "cell_type": "markdown",
      "source": [
        "## Majik p1: Loading Documents From Git Repos\n",
        "\n",
        "This block just:\n",
        "1. Clones a repo\n",
        "2. Lists all the files (recursively) in the docs folder (specified in config).\n",
        "3. Reads the data from each `.md` / `.mdx` file\n",
        "4. Creates some metadata\n",
        "5. Appends the `Document` to a list which will be used in the next block."
      ],
      "metadata": {
        "id": "f_eHcSMBcbG1"
      }
    },
    {
      "cell_type": "code",
      "source": [
        "from git import Repo\n",
        "import os\n",
        "from datetime import datetime\n",
        "from llama_index.readers.schema.base import Document\n",
        "\n",
        "from datetime import datetime\n",
        "\n",
        "\n",
        "documents = []\n",
        "\n",
        "for url, name, path in git_targets:\n",
        "    print(f\"Cloning {url} to {name}\")\n",
        "    Repo.clone_from(url, name)\n",
        "    for root, dirs, files in os.walk(f\"./{name}/{path}\"):\n",
        "        for file_name in files:\n",
        "            if \".md\" in file_name and not os.path.islink(file_name): # if '.md' in ... include md AND mdx\n",
        "                file_path = os.path.join(root, file_name)\n",
        "                with open(file_path, 'r', encoding='utf-8') as file:\n",
        "                    data = file.read()\n",
        "                title = name\n",
        "                lines = data.splitlines()\n",
        "                for line in lines:\n",
        "                    if line.startswith(\"title:\"):\n",
        "                        title += line.replace(\"title:\", \" - \")\n",
        "                        break\n",
        "                if title == name:\n",
        "                  title += \" - \" + file_path.split(name+'/')[1]\n",
        "                documents.append(Document(text=data,\n",
        "                                          metadata={\"date\":\n",
        "                                                    datetime.now().strftime(\"%Y-%m-%d\"),\n",
        "                                                    \"src\": f\"{url.replace('.git', '')}/blob/main/{file_path.split(name+'/')[1]}\",\n",
        "                                                    \"title\": title}))\n",
        "\n"
      ],
      "metadata": {
        "colab": {
          "base_uri": "https://localhost:8080/"
        },
        "id": "_hG6KmPsUH_B",
        "outputId": "d78f76f0-f094-4c87-9338-fa77156d7860"
      },
      "execution_count": 3,
      "outputs": [
        {
          "output_type": "stream",
          "name": "stdout",
          "text": [
            "Cloning https://github.com/reactjs/react.dev.git to React Developer Documentation\n",
            "Cloning https://github.com/react-bootstrap/react-bootstrap.git to React Bootstrap Documentation\n"
          ]
        }
      ]
    },
    {
      "cell_type": "markdown",
      "source": [
        "## Magik p2: Indexing The New Documents\n",
        "\n",
        "The following code uploads the documents you just created to your Pinecone Index. For this to work you will need the following keys available.\n",
        "\n",
        "- `open_ai_key` an OpenAI API Key, this is required for creating embeddings. Is there anyway around this? Yes, do the work around work OK? Not really. It will cost a couple of dollars and is a worthwhile investment.\n",
        "- `pinecone_api_key_js` I have multiple free pinecone indexes. I give them little flags like `_js` which kind of mean something that I'll forget whenever I come back to this. You should probably change the line where it pulls that key to your more appropriately named key.\n",
        "\n",
        "You'll also notice a blank cell. I was having some issues bc I got a little _too_ cavalier with auto-complete. Net out, I had to run the cell a few times- the output from the blank cell you _should_ see in the output of the next cell.\n",
        "\n",
        "The final cell is just a count of how many things were inserted."
      ],
      "metadata": {
        "id": "sOz-leIig2Cy"
      }
    },
    {
      "cell_type": "code",
      "source": [
        "from llama_index.storage.storage_context import StorageContext\n",
        "from llama_index import VectorStoreIndex\n",
        "from llama_index.node_parser import SimpleNodeParser\n",
        "from llama_index.vector_stores import PineconeVectorStore\n",
        "import pinecone\n",
        "import openai\n",
        "\n",
        "from google.colab import userdata\n",
        "\n",
        "openai.api_key = userdata.get('open_ai_key') #required for making embeddings- work arounds exist, they aren't great- pay the $3 and have it done right.\n",
        "pinecone.init(api_key=userdata.get(\"pinecone_api_key_js\") , environment=\"gcp-starter\")\n",
        "pinecone_index = pinecone.Index(INDEX_NAME)\n",
        "vector_store = PineconeVectorStore(pinecone_index=pinecone_index)\n",
        "storage_context = StorageContext.from_defaults(vector_store=vector_store)\n",
        "index = VectorStoreIndex.from_vector_store(vector_store=vector_store)\n",
        "# Parse documents into nodes\n",
        "print(\"Parsing new documents into nodes...\")\n",
        "parser = SimpleNodeParser()\n",
        "new_nodes = parser.get_nodes_from_documents(documents)\n",
        "# Add nodes to the existing index\n",
        "print(f\"Adding new nodes to the existing index {INDEX_NAME}...\")\n",
        "index.insert_nodes(new_nodes)\n"
      ],
      "metadata": {
        "colab": {
          "base_uri": "https://localhost:8080/"
        },
        "id": "Bmdvtz1mWOvu",
        "outputId": "2e98629a-6f8b-4760-b252-5ff597704b3f"
      },
      "execution_count": 17,
      "outputs": [
        {
          "output_type": "stream",
          "name": "stdout",
          "text": [
            "Parsing new documents into nodes...\n"
          ]
        }
      ]
    },
    {
      "cell_type": "code",
      "source": [],
      "metadata": {
        "colab": {
          "base_uri": "https://localhost:8080/",
          "height": 66,
          "referenced_widgets": [
            "5610521db8a743c8840551c298d8a831",
            "f4f4ae57a6c745098a84a8fed0b023c2",
            "1db902095f614dfaa0ef25aa09185ad4",
            "e01c2d842efd4254ab918bc9eef46933",
            "061f08490e3c4d3cbe79d95afb03ad69",
            "a6cbbba7affd4d2d8a70c41b47a2543b",
            "c9d6e829b5ed4187817a912ba8199ccc",
            "5f0a53836b16453194e3a80a3a2600b6",
            "63d760d6a5bf47bb9ef847b1ff48f3f9",
            "0e3f10c2882e442e971b96002fdebc37",
            "f26cec0170514815abc9fb04775e9767"
          ]
        },
        "id": "ct3nsN8pa18-",
        "outputId": "97316b01-7d86-4573-c38c-b9abec30652e"
      },
      "execution_count": 18,
      "outputs": [
        {
          "output_type": "stream",
          "name": "stdout",
          "text": [
            "Adding new nodes to the existing index firebase-react-helper...\n"
          ]
        },
        {
          "output_type": "display_data",
          "data": {
            "text/plain": [
              "Upserted vectors:   0%|          | 0/990 [00:00<?, ?it/s]"
            ],
            "application/vnd.jupyter.widget-view+json": {
              "version_major": 2,
              "version_minor": 0,
              "model_id": "5610521db8a743c8840551c298d8a831"
            }
          },
          "metadata": {}
        }
      ]
    },
    {
      "cell_type": "code",
      "source": [
        "print(f\"Added {len(new_nodes)} to index {INDEX_NAME}\")"
      ],
      "metadata": {
        "colab": {
          "base_uri": "https://localhost:8080/"
        },
        "id": "ZRxZE6jOfazB",
        "outputId": "4b109713-f0fd-41f3-a923-55734762d5e2"
      },
      "execution_count": 20,
      "outputs": [
        {
          "output_type": "stream",
          "name": "stdout",
          "text": [
            "Added 990 to index firebase-react-helper\n"
          ]
        }
      ]
    },
    {
      "cell_type": "code",
      "source": [],
      "metadata": {
        "id": "THt22BsvgAa6"
      },
      "execution_count": null,
      "outputs": []
    }
  ]
}